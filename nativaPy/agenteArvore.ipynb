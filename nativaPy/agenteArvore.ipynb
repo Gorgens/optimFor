{
  "nbformat": 4,
  "nbformat_minor": 0,
  "metadata": {
    "colab": {
      "name": "Modelos Dissertação da Raquel.ipynb",
      "provenance": [],
      "collapsed_sections": []
    },
    "kernelspec": {
      "name": "python3",
      "display_name": "Python 3"
    }
  },
  "cells": [
    {
      "cell_type": "code",
      "metadata": {
        "id": "5MYiDbw2it8N",
        "colab_type": "code",
        "colab": {}
      },
      "source": [
        "from scipy.stats import binom\n",
        "from scipy.stats import gamma\n",
        "import math as m"
      ],
      "execution_count": 66,
      "outputs": []
    },
    {
      "cell_type": "markdown",
      "metadata": {
        "id": "7GCepKnwrlmE",
        "colab_type": "text"
      },
      "source": [
        "# Probabilidade de morrer"
      ]
    },
    {
      "cell_type": "code",
      "metadata": {
        "id": "4mBnzZ_7roDB",
        "colab_type": "code",
        "colab": {
          "base_uri": "https://localhost:8080/",
          "height": 34
        },
        "outputId": "4177bdaa-5c9e-42a2-d1d5-6c572fe1d296"
      },
      "source": [
        "pMorrer = 0.0341\n",
        "binom.rvs(n = 1, p = pMorrer, size = 1)[0]"
      ],
      "execution_count": 34,
      "outputs": [
        {
          "output_type": "execute_result",
          "data": {
            "text/plain": [
              "0"
            ]
          },
          "metadata": {
            "tags": []
          },
          "execution_count": 34
        }
      ]
    },
    {
      "cell_type": "markdown",
      "metadata": {
        "id": "6TiyBc7XoYCQ",
        "colab_type": "text"
      },
      "source": [
        "Probabilidade de morrer em função do grupo ecológico"
      ]
    },
    {
      "cell_type": "code",
      "metadata": {
        "id": "Tn_Mr9rijMl9",
        "colab_type": "code",
        "colab": {
          "base_uri": "https://localhost:8080/",
          "height": 34
        },
        "outputId": "25774e0b-7fdc-4e80-fd8a-e73313ae185f"
      },
      "source": [
        "# logit(p) = glm.binomial(link = logit)\n",
        "# p = exp(glm.binomial(link = logit)) / (1 + exp(glm.binomial(link = logit)))\n",
        "\n",
        "Pioneer = 0\n",
        "LightDemanding = 0\n",
        "Intermediate = 0\n",
        "ShadeTolerant = 0\n",
        "Emergent = 0\n",
        "\n",
        "pMorrer = m.exp(-3.20606 + \n",
        "          Pioneer * 0.21794 +\n",
        "          LightDemanding * 0.30018 +\n",
        "          Intermediate * -0.16983 +\n",
        "          ShadeTolerant * -0.00247 +\n",
        "          Emergent * -0.29289) / (1 + m.exp(-3.20606 + \n",
        "          Pioneer * 0.21794 +\n",
        "          LightDemanding * 0.30018 +\n",
        "          Intermediate * -0.16983 +\n",
        "          ShadeTolerant * -0.00247 +\n",
        "          Emergent * -0.29289))\n",
        "print(pMorrer)"
      ],
      "execution_count": 118,
      "outputs": [
        {
          "output_type": "stream",
          "text": [
            "0.03893831005833518\n"
          ],
          "name": "stdout"
        }
      ]
    },
    {
      "cell_type": "code",
      "metadata": {
        "id": "a15MzyzgjE0D",
        "colab_type": "code",
        "colab": {
          "base_uri": "https://localhost:8080/",
          "height": 34
        },
        "outputId": "f44f265a-5c8b-476d-e7de-fe39738f1751"
      },
      "source": [
        "binom.rvs(n = 1, p = pMorrer, size = 1)[0]"
      ],
      "execution_count": 119,
      "outputs": [
        {
          "output_type": "execute_result",
          "data": {
            "text/plain": [
              "array([0])"
            ]
          },
          "metadata": {
            "tags": []
          },
          "execution_count": 119
        }
      ]
    },
    {
      "cell_type": "markdown",
      "metadata": {
        "id": "XkqIXYqxrSrq",
        "colab_type": "text"
      },
      "source": [
        "Probabilidade de morrer em função do centro de classe"
      ]
    },
    {
      "cell_type": "code",
      "metadata": {
        "id": "1hhWv8GapP_m",
        "colab_type": "code",
        "colab": {
          "base_uri": "https://localhost:8080/",
          "height": 34
        },
        "outputId": "f5535be9-8125-4a96-e405-ffacff9d4501"
      },
      "source": [
        "# logit(p) = glm.binomial(link = logit)\n",
        "# p = exp(glm.binomial(link = logit)) / (1 + exp(glm.binomial(link = logit)))\n",
        "\n",
        "CC15 = 0\n",
        "CC25 = 0\n",
        "CC35 = 0\n",
        "CC45 = 0\n",
        "CC55 = 0\n",
        "CC65 = 0\n",
        "CC75 = 0\n",
        "CC85 = 0\n",
        "CCgt95 = 0\n",
        "\n",
        "pMorrer = m.exp(-2.14907 +\n",
        "          CC15 * 0.19755 +\n",
        "          CC25 * -0.22988 +\n",
        "          CC35 * -0.20619 +\n",
        "          CC45 * -0.38208 +\n",
        "          CC55 * -0.56542 +\n",
        "          CC65 * 0.21033 +\n",
        "          CC75 * 0.12645 +\n",
        "          CC85 * 0.39666 +\n",
        "          CCgt95 * 0.11502) / (1+m.exp(-2.14907 +\n",
        "          CC15 * 0.19755 +\n",
        "          CC25 * -0.22988 +\n",
        "          CC35 * -0.20619 +\n",
        "          CC45 * -0.38208 +\n",
        "          CC55 * -0.56542 +\n",
        "          CC65 * 0.21033 +\n",
        "          CC75 * 0.12645 +\n",
        "          CC85 * 0.39666 +\n",
        "          CCgt95 * 0.11502))\n",
        "\n",
        "print(pMorrer)"
      ],
      "execution_count": 120,
      "outputs": [
        {
          "output_type": "stream",
          "text": [
            "0.10441816008677335\n"
          ],
          "name": "stdout"
        }
      ]
    },
    {
      "cell_type": "code",
      "metadata": {
        "id": "uHT87ZSvqy2I",
        "colab_type": "code",
        "colab": {
          "base_uri": "https://localhost:8080/",
          "height": 34
        },
        "outputId": "b08aaaeb-888a-435d-8abb-bbd11b2462f8"
      },
      "source": [
        "binom.rvs(n = 1, p = pMorrer, size = 1)[0]"
      ],
      "execution_count": 121,
      "outputs": [
        {
          "output_type": "execute_result",
          "data": {
            "text/plain": [
              "0"
            ]
          },
          "metadata": {
            "tags": []
          },
          "execution_count": 121
        }
      ]
    },
    {
      "cell_type": "markdown",
      "metadata": {
        "id": "dNIdglq5rWex",
        "colab_type": "text"
      },
      "source": [
        "Probabilidade de ingresso em função do grupo ecológico"
      ]
    },
    {
      "cell_type": "code",
      "metadata": {
        "id": "OJrkbz6Urbjx",
        "colab_type": "code",
        "colab": {
          "base_uri": "https://localhost:8080/",
          "height": 34
        },
        "outputId": "a413261f-010a-48a7-c707-c0f5a8627f40"
      },
      "source": [
        "# logit(p) = glm.binomial(link = logit)\n",
        "# p = exp(glm.binomial(link = logit))/(1+exp(glm.binomial(link = logit)))\n",
        "\n",
        "Pioneer = 0\n",
        "LightDemanding = 0\n",
        "Intermediate = 0\n",
        "ShadeTolerant = 0\n",
        "Emergent = 0\n",
        "\n",
        "pIngressar = m.exp(-4.6713 + \n",
        "          Pioneer * 0.8739 +\n",
        "          LightDemanding * 1.1900 +\n",
        "          Intermediate * 0.0475 +\n",
        "          ShadeTolerant * -0.1719 +\n",
        "          Emergent * -13.8948) / (1+m.exp(-4.6713 + \n",
        "          Pioneer * 0.8739 +\n",
        "          LightDemanding * 1.1900 +\n",
        "          Intermediate * 0.0475 +\n",
        "          ShadeTolerant * -0.1719 +\n",
        "          Emergent * -13.8948))\n",
        "print(pIngressar)"
      ],
      "execution_count": 122,
      "outputs": [
        {
          "output_type": "stream",
          "text": [
            "0.009273294588424467\n"
          ],
          "name": "stdout"
        }
      ]
    },
    {
      "cell_type": "code",
      "metadata": {
        "id": "BUeKKC2eJ8zI",
        "colab_type": "code",
        "colab": {}
      },
      "source": [
        "binom.rvs(n = 1, p = pIngressar, size = 1)[0]"
      ],
      "execution_count": null,
      "outputs": []
    },
    {
      "cell_type": "markdown",
      "metadata": {
        "id": "-brl2YL4E8VU",
        "colab_type": "text"
      },
      "source": [
        "Probabilidade de crescer em função do grupo ecologico"
      ]
    },
    {
      "cell_type": "code",
      "metadata": {
        "id": "Qh3TYqMIFAM3",
        "colab_type": "code",
        "colab": {
          "base_uri": "https://localhost:8080/",
          "height": 34
        },
        "outputId": "82499928-4021-4ce8-9bb5-1f4711b1404d"
      },
      "source": [
        "# logit(p) = glm.binomial(link = logit)\n",
        "# p = exp(glm.binomial(link = logit))/(1+exp(glm.binomial(link = logit)))\n",
        "\n",
        "Pioneer = 0\n",
        "LightDemanding = 0\n",
        "Intermediate = 0\n",
        "ShadeTolerant = 0\n",
        "Emergent = 0\n",
        "\n",
        "pCrescer = m.exp(1.49856 + \n",
        "          Pioneer * 0.72065 +\n",
        "          LightDemanding * -0.1768 +\n",
        "          Intermediate * 0.12109 +\n",
        "          ShadeTolerant * -0.06119 +\n",
        "          Emergent * -0.38159) / (1+m.exp(1.49856 + \n",
        "          Pioneer * 0.72065 +\n",
        "          LightDemanding * -0.1768 +\n",
        "          Intermediate * 0.12109 +\n",
        "          ShadeTolerant * -0.06119 +\n",
        "          Emergent * -0.38159))\n",
        "print(pCrescer)"
      ],
      "execution_count": 123,
      "outputs": [
        {
          "output_type": "stream",
          "text": [
            "0.8173596070785886\n"
          ],
          "name": "stdout"
        }
      ]
    },
    {
      "cell_type": "code",
      "metadata": {
        "id": "LOLP_PvQKB0H",
        "colab_type": "code",
        "colab": {}
      },
      "source": [
        "binom.rvs(n = 1, p = pCrescer, size = 1)[0]"
      ],
      "execution_count": null,
      "outputs": []
    },
    {
      "cell_type": "markdown",
      "metadata": {
        "id": "ctt70er5FI_U",
        "colab_type": "text"
      },
      "source": [
        "Probabilidade de crescer em função do centro de classe"
      ]
    },
    {
      "cell_type": "code",
      "metadata": {
        "id": "WvXrR-7QFK_j",
        "colab_type": "code",
        "colab": {
          "base_uri": "https://localhost:8080/",
          "height": 34
        },
        "outputId": "591d2121-f84b-4cb0-f20d-ec0de4616674"
      },
      "source": [
        "# logit(p) = glm.binomial(link = logit)\n",
        "# p = exp(glm.binomial(link = logit))\n",
        "\n",
        "CC15 = 0\n",
        "CC25 = 0\n",
        "CC35 = 0\n",
        "CC45 = 0\n",
        "CC55 = 0\n",
        "CC65 = 0\n",
        "CC75 = 0\n",
        "CC85 = 0\n",
        "CCgt95 = 0\n",
        "\n",
        "pCrescer = m.exp(1.4708130 +\n",
        "          CC15 * 0.0606048 +\n",
        "          CC25 * -0.0251736 +\n",
        "          CC35 * -0.0074853 +\n",
        "          CC45 * 0.0123993 +\n",
        "          CC55 * 0.0382272 +\n",
        "          CC65 * 0.0004746 +\n",
        "          CC75 * -0.4722842 +\n",
        "          CC85 * -0.3722007 +\n",
        "          CCgt95 * -0.9174278) / (1+m.exp(1.4708130 +\n",
        "          CC15 * 0.0606048 +\n",
        "          CC25 * -0.0251736 +\n",
        "          CC35 * -0.0074853 +\n",
        "          CC45 * 0.0123993 +\n",
        "          CC55 * 0.0382272 +\n",
        "          CC65 * 0.0004746 +\n",
        "          CC75 * -0.4722842 +\n",
        "          CC85 * -0.3722007 +\n",
        "          CCgt95 * -0.9174278))\n",
        "\n",
        "print(pCrescer)"
      ],
      "execution_count": 124,
      "outputs": [
        {
          "output_type": "stream",
          "text": [
            "0.8131809265765366\n"
          ],
          "name": "stdout"
        }
      ]
    },
    {
      "cell_type": "code",
      "metadata": {
        "id": "SIM2q0d4KJpV",
        "colab_type": "code",
        "colab": {
          "base_uri": "https://localhost:8080/",
          "height": 34
        },
        "outputId": "e84d4063-cf88-4631-e1bc-40266f4c7074"
      },
      "source": [
        "binom.rvs(n = 1, p = pCrescer, size = 1)[0]"
      ],
      "execution_count": 125,
      "outputs": [
        {
          "output_type": "execute_result",
          "data": {
            "text/plain": [
              "array([1])"
            ]
          },
          "metadata": {
            "tags": []
          },
          "execution_count": 125
        }
      ]
    },
    {
      "cell_type": "markdown",
      "metadata": {
        "id": "QN9T7NpWGNC2",
        "colab_type": "text"
      },
      "source": [
        "Distribuição do incremento em função do grupo ecológico"
      ]
    },
    {
      "cell_type": "code",
      "metadata": {
        "id": "mQusb-mDIbZ9",
        "colab_type": "code",
        "colab": {
          "base_uri": "https://localhost:8080/",
          "height": 34
        },
        "outputId": "41b4ff8e-2dac-4453-f53b-17b5aecb1b63"
      },
      "source": [
        "Pioneer = 0\n",
        "LightDemanding = 0\n",
        "Intermediate = 0\n",
        "ShadeTolerant = 1\n",
        "Emergent = 0\n",
        "\n",
        "aGamma = m.exp(-0.38048 + \n",
        "          Pioneer * -0.01230 +\n",
        "          LightDemanding * -0.03672 +\n",
        "          Intermediate * 0.38229 +\n",
        "          ShadeTolerant * -0.31695 +\n",
        "          Emergent * 0.900233)\n",
        "print(aGamma)"
      ],
      "execution_count": 75,
      "outputs": [
        {
          "output_type": "stream",
          "text": [
            "0.49786316937608194\n"
          ],
          "name": "stdout"
        }
      ]
    },
    {
      "cell_type": "code",
      "metadata": {
        "id": "jsOlvaoqGQzK",
        "colab_type": "code",
        "colab": {
          "base_uri": "https://localhost:8080/",
          "height": 34
        },
        "outputId": "59815955-52fa-4757-9452-4062de65f9d2"
      },
      "source": [
        "gamma.rvs(aGamma, loc=0, scale=1, size=1)[0]"
      ],
      "execution_count": 76,
      "outputs": [
        {
          "output_type": "execute_result",
          "data": {
            "text/plain": [
              "0.32416286438820097"
            ]
          },
          "metadata": {
            "tags": []
          },
          "execution_count": 76
        }
      ]
    },
    {
      "cell_type": "markdown",
      "metadata": {
        "id": "pTtIFebhJMvu",
        "colab_type": "text"
      },
      "source": [
        "Distribuição do incremento em função do centro de classe"
      ]
    },
    {
      "cell_type": "code",
      "metadata": {
        "id": "JiE4jNvTJKeI",
        "colab_type": "code",
        "colab": {}
      },
      "source": [
        "CC15 = 0\n",
        "CC25 = 0\n",
        "CC35 = 0\n",
        "CC45 = 0\n",
        "CC55 = 0\n",
        "CC65 = 0\n",
        "CC75 = 0\n",
        "CC85 = 0\n",
        "CCgt95 = 0\n",
        "\n",
        "aGamma = m.exp(-0.44316 +\n",
        "          CC15 * -0.28469 +\n",
        "          CC25 * -0.15414 +\n",
        "          CC35 * -0.04404 +\n",
        "          CC45 * 0.27027 +\n",
        "          CC55 * 0.30840 +\n",
        "          CC65 * 0.68567 +\n",
        "          CC75 * 0.83409 +\n",
        "          CC85 * 0.88638 +\n",
        "          CCgt95 * 1.35671)\n",
        "\n",
        "print(aGamma)"
      ],
      "execution_count": null,
      "outputs": []
    },
    {
      "cell_type": "code",
      "metadata": {
        "id": "EiJ0MgSKJ4Gx",
        "colab_type": "code",
        "colab": {}
      },
      "source": [
        "gamma.rvs(aGamma, loc=0, scale=1, size=1)[0]"
      ],
      "execution_count": null,
      "outputs": []
    },
    {
      "cell_type": "markdown",
      "metadata": {
        "id": "jVauIMN-xY2J",
        "colab_type": "text"
      },
      "source": [
        "# Agente árvore"
      ]
    },
    {
      "cell_type": "code",
      "metadata": {
        "id": "atOP1Yqlxa8G",
        "colab_type": "code",
        "colab": {}
      },
      "source": [
        "class arvore:\n",
        "\n",
        "    def __init__(self, sp, grupoEcologico, dap):\n",
        "        self.sp = sp\n",
        "        self.ge = grupoEcologico\n",
        "        self.st = 'viva'\n",
        "        self.dap = dap\n",
        "        self.cc = (dap//10 * 10) + 10/2\n",
        "        self.vol = -0.09712 + 0.013697 * dap + 0.000838 * dap**2\n",
        "\n",
        "    def evoluir(self):\n",
        "      if self.st == 'viva':\n",
        "        # define probabilidade de morrer\n",
        "        # pMorrer = 0.041\n",
        "        if self.ge == 'Pioneer':\n",
        "          pMorrer = m.exp(-3.20606 + 0.21794)/(1+m.exp(-3.20606 + 0.21794))\n",
        "        elif self.ge == 'LightDemanding':\n",
        "          pMorrer = m.exp(-3.20606 + 0.30018)/(1+m.exp(-3.20606 + 0.30018))\n",
        "        elif self.ge == 'Intermediate':\n",
        "          pMorrer = m.exp(-3.20606 + -0.16983)/(1+m.exp(-3.20606 + -0.16983))\n",
        "        elif self.ge == 'ShadeTolerant':\n",
        "          pMorrer = m.exp(-3.20606 + -0.00247)/(1+m.exp(-3.20606 + -0.00247))\n",
        "        elif self.ge == 'Emergent':\n",
        "          pMorrer = m.exp(-3.20606 + -0.29289)/(1+m.exp(-3.20606 + -0.29289))\n",
        "        else:\n",
        "          pMorrer = 0.041\n",
        "        # verifica se árvore permanece viva ou morre\n",
        "        if binom.rvs(n = 1, p = pMorrer, size = 1)[0] == 1:\n",
        "          self.dap = None\n",
        "          self.st = 'morta'\n",
        "        # se permanece viva, evolui\n",
        "        else:\n",
        "          # define probabilidade de crescer\n",
        "          if self.ge == 'Pioneer':\n",
        "            pCrescer = m.exp(1.49856 + 0.72065)/(1+m.exp(1.49856 + 0.72065))\n",
        "          elif self.ge == 'LightDemanding':\n",
        "            pCrescer = m.exp(1.49856 + -0.1768)/(1+m.exp(1.49856 + -0.1768))\n",
        "          elif self.ge == 'Intermediate':\n",
        "            pCrescer = m.exp(1.49856 + 0.12109)/(1+m.exp(1.49856 + 0.12109))\n",
        "          elif self.ge == 'ShadeTolerant':\n",
        "            pCrescer = m.exp(1.49856 + -0.06119)/(1+m.exp(1.49856 + -0.06119))\n",
        "          elif self.ge == 'Emergent':\n",
        "            pCrescer = m.exp(1.49856 + -0.38159)/(1+m.exp(1.49856 + -0.38159))\n",
        "          else:\n",
        "            pCrescer = 0.8174\n",
        "          # se cresce gera valor para IDA e evolui\n",
        "          if binom.rvs(n = 1, p = pCrescer, size = 1)[0] == 1:\n",
        "            if self.cc == 15.0:\n",
        "              aGamma = m.exp(-0.44316 + -0.28469)\n",
        "            elif self.cc == 25.0:\n",
        "              aGamma = m.exp(-0.44316 + -0.15414)\n",
        "            elif self.cc == 35.0:\n",
        "              aGamma = m.exp(-0.44316 + -0.04404)\n",
        "            elif self.cc == 45.0:\n",
        "              aGamma = m.exp(-0.44316 + 0.27027)\n",
        "            elif self.cc == 55.0:\n",
        "              aGamma = m.exp(-0.44316 + 0.30840)\n",
        "            elif self.cc == 65.0:\n",
        "              aGamma = m.exp(-0.44316 + 0.68567)\n",
        "            elif self.cc == 75.0:\n",
        "              aGamma = m.exp(-0.44316 + 0.83409)\n",
        "            elif self.cc == 85.0:\n",
        "              aGamma = m.exp(-0.44316 + 0.88638)\n",
        "            elif self.cc >= 95.0:\n",
        "              aGamma = m.exp(-0.44316 + 1.35671)\n",
        "            else:\n",
        "              aGamma = 0.4978\n",
        "            self.dap = self.dap + gamma.rvs(aGamma, loc=0, scale=1, size=1)[0]\n",
        "            self.cc = (self.dap//10 * 10) + 10/2\n",
        "            self.vol = -0.09712 + 0.013697 * self.dap + 0.000838 * self.dap**2\n",
        "\n"
      ],
      "execution_count": 126,
      "outputs": []
    },
    {
      "cell_type": "code",
      "metadata": {
        "id": "-hmIZipa9V1q",
        "colab_type": "code",
        "colab": {}
      },
      "source": [
        "tree1 = arvore(None, 'Pioneer', 23.3)\n"
      ],
      "execution_count": 127,
      "outputs": []
    },
    {
      "cell_type": "code",
      "metadata": {
        "id": "-UtylKqg9hWe",
        "colab_type": "code",
        "colab": {
          "base_uri": "https://localhost:8080/",
          "height": 51
        },
        "outputId": "e1b524de-adeb-4a4e-e2b9-e2276bea522d"
      },
      "source": [
        "print(tree1.dap, tree1.cc, tree1.vol, tree1.st)\n",
        "tree1.evoluir()\n",
        "print(tree1.dap, tree1.cc, tree1.vol, tree1.st)"
      ],
      "execution_count": 134,
      "outputs": [
        {
          "output_type": "stream",
          "text": [
            "26.20412523126782 25.0 0.8372157814086155 viva\n",
            "26.491108427953424 25.0 0.8538193681091262 viva\n"
          ],
          "name": "stdout"
        }
      ]
    }
  ]
}