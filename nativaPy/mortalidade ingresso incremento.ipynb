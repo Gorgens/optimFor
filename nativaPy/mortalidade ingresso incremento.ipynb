{
 "cells": [
  {
   "cell_type": "code",
   "execution_count": 66,
   "metadata": {
    "colab": {},
    "colab_type": "code",
    "id": "5MYiDbw2it8N"
   },
   "outputs": [],
   "source": [
    "from scipy.stats import binom\n",
    "from scipy.stats import gamma\n",
    "import math as m"
   ]
  },
  {
   "cell_type": "markdown",
   "metadata": {
    "colab_type": "text",
    "id": "7GCepKnwrlmE"
   },
   "source": [
    "Probabilidade de morrer"
   ]
  },
  {
   "cell_type": "code",
   "execution_count": 34,
   "metadata": {
    "colab": {
     "base_uri": "https://localhost:8080/",
     "height": 34
    },
    "colab_type": "code",
    "id": "4mBnzZ_7roDB",
    "outputId": "4177bdaa-5c9e-42a2-d1d5-6c572fe1d296",
    "scrolled": true
   },
   "outputs": [
    {
     "data": {
      "text/plain": [
       "0"
      ]
     },
     "execution_count": 34,
     "metadata": {
      "tags": []
     },
     "output_type": "execute_result"
    }
   ],
   "source": [
    "pMorrer = 0.0341\n",
    "binom.rvs(n = 1, p = pMorrer, size = 1)[0]"
   ]
  },
  {
   "cell_type": "markdown",
   "metadata": {
    "colab_type": "text",
    "id": "6TiyBc7XoYCQ"
   },
   "source": [
    "Probabilidade de morrer em função do grupo ecológico"
   ]
  },
  {
   "cell_type": "code",
   "execution_count": 118,
   "metadata": {
    "colab": {
     "base_uri": "https://localhost:8080/",
     "height": 34
    },
    "colab_type": "code",
    "id": "Tn_Mr9rijMl9",
    "outputId": "25774e0b-7fdc-4e80-fd8a-e73313ae185f"
   },
   "outputs": [
    {
     "name": "stdout",
     "output_type": "stream",
     "text": [
      "0.03893831005833518\n"
     ]
    }
   ],
   "source": [
    "# logit(p) = glm.binomial(link = logit)\n",
    "# p = exp(glm.binomial(link = logit)) / (1 + exp(glm.binomial(link = logit)))\n",
    "\n",
    "Pioneer = 0\n",
    "LightDemanding = 0\n",
    "Intermediate = 0\n",
    "ShadeTolerant = 0\n",
    "Emergent = 0\n",
    "\n",
    "pMorrer = m.exp(-3.20606 + \n",
    "          Pioneer * 0.21794 +\n",
    "          LightDemanding * 0.30018 +\n",
    "          Intermediate * -0.16983 +\n",
    "          ShadeTolerant * -0.00247 +\n",
    "          Emergent * -0.29289) / (1 + m.exp(-3.20606 + \n",
    "          Pioneer * 0.21794 +\n",
    "          LightDemanding * 0.30018 +\n",
    "          Intermediate * -0.16983 +\n",
    "          ShadeTolerant * -0.00247 +\n",
    "          Emergent * -0.29289))\n",
    "print(pMorrer)"
   ]
  },
  {
   "cell_type": "code",
   "execution_count": 119,
   "metadata": {
    "colab": {
     "base_uri": "https://localhost:8080/",
     "height": 34
    },
    "colab_type": "code",
    "id": "a15MzyzgjE0D",
    "outputId": "f44f265a-5c8b-476d-e7de-fe39738f1751"
   },
   "outputs": [
    {
     "data": {
      "text/plain": [
       "array([0])"
      ]
     },
     "execution_count": 119,
     "metadata": {
      "tags": []
     },
     "output_type": "execute_result"
    }
   ],
   "source": [
    "binom.rvs(n = 1, p = pMorrer, size = 1)[0]"
   ]
  },
  {
   "cell_type": "markdown",
   "metadata": {
    "colab_type": "text",
    "id": "XkqIXYqxrSrq"
   },
   "source": [
    "Probabilidade de morrer em função do centro de classe"
   ]
  },
  {
   "cell_type": "code",
   "execution_count": 120,
   "metadata": {
    "colab": {
     "base_uri": "https://localhost:8080/",
     "height": 34
    },
    "colab_type": "code",
    "id": "1hhWv8GapP_m",
    "outputId": "f5535be9-8125-4a96-e405-ffacff9d4501"
   },
   "outputs": [
    {
     "name": "stdout",
     "output_type": "stream",
     "text": [
      "0.10441816008677335\n"
     ]
    }
   ],
   "source": [
    "# logit(p) = glm.binomial(link = logit)\n",
    "# p = exp(glm.binomial(link = logit)) / (1 + exp(glm.binomial(link = logit)))\n",
    "\n",
    "CC15 = 0\n",
    "CC25 = 0\n",
    "CC35 = 0\n",
    "CC45 = 0\n",
    "CC55 = 0\n",
    "CC65 = 0\n",
    "CC75 = 0\n",
    "CC85 = 0\n",
    "CCgt95 = 0\n",
    "\n",
    "pMorrer = m.exp(-2.14907 +\n",
    "          CC15 * 0.19755 +\n",
    "          CC25 * -0.22988 +\n",
    "          CC35 * -0.20619 +\n",
    "          CC45 * -0.38208 +\n",
    "          CC55 * -0.56542 +\n",
    "          CC65 * 0.21033 +\n",
    "          CC75 * 0.12645 +\n",
    "          CC85 * 0.39666 +\n",
    "          CCgt95 * 0.11502) / (1+m.exp(-2.14907 +\n",
    "          CC15 * 0.19755 +\n",
    "          CC25 * -0.22988 +\n",
    "          CC35 * -0.20619 +\n",
    "          CC45 * -0.38208 +\n",
    "          CC55 * -0.56542 +\n",
    "          CC65 * 0.21033 +\n",
    "          CC75 * 0.12645 +\n",
    "          CC85 * 0.39666 +\n",
    "          CCgt95 * 0.11502))\n",
    "\n",
    "print(pMorrer)"
   ]
  },
  {
   "cell_type": "code",
   "execution_count": 121,
   "metadata": {
    "colab": {
     "base_uri": "https://localhost:8080/",
     "height": 34
    },
    "colab_type": "code",
    "id": "uHT87ZSvqy2I",
    "outputId": "b08aaaeb-888a-435d-8abb-bbd11b2462f8"
   },
   "outputs": [
    {
     "data": {
      "text/plain": [
       "0"
      ]
     },
     "execution_count": 121,
     "metadata": {
      "tags": []
     },
     "output_type": "execute_result"
    }
   ],
   "source": [
    "binom.rvs(n = 1, p = pMorrer, size = 1)[0]"
   ]
  },
  {
   "cell_type": "markdown",
   "metadata": {
    "colab_type": "text",
    "id": "dNIdglq5rWex"
   },
   "source": [
    "Probabilidade de ingresso em função do grupo ecológico"
   ]
  },
  {
   "cell_type": "code",
   "execution_count": 122,
   "metadata": {
    "colab": {
     "base_uri": "https://localhost:8080/",
     "height": 34
    },
    "colab_type": "code",
    "id": "OJrkbz6Urbjx",
    "outputId": "a413261f-010a-48a7-c707-c0f5a8627f40"
   },
   "outputs": [
    {
     "name": "stdout",
     "output_type": "stream",
     "text": [
      "0.009273294588424467\n"
     ]
    }
   ],
   "source": [
    "# logit(p) = glm.binomial(link = logit)\n",
    "# p = exp(glm.binomial(link = logit))/(1+exp(glm.binomial(link = logit)))\n",
    "\n",
    "Pioneer = 0\n",
    "LightDemanding = 0\n",
    "Intermediate = 0\n",
    "ShadeTolerant = 0\n",
    "Emergent = 0\n",
    "\n",
    "pIngressar = m.exp(-4.6713 + \n",
    "          Pioneer * 0.8739 +\n",
    "          LightDemanding * 1.1900 +\n",
    "          Intermediate * 0.0475 +\n",
    "          ShadeTolerant * -0.1719 +\n",
    "          Emergent * -13.8948) / (1+m.exp(-4.6713 + \n",
    "          Pioneer * 0.8739 +\n",
    "          LightDemanding * 1.1900 +\n",
    "          Intermediate * 0.0475 +\n",
    "          ShadeTolerant * -0.1719 +\n",
    "          Emergent * -13.8948))\n",
    "print(pIngressar)"
   ]
  },
  {
   "cell_type": "code",
   "execution_count": null,
   "metadata": {
    "colab": {},
    "colab_type": "code",
    "id": "BUeKKC2eJ8zI"
   },
   "outputs": [],
   "source": [
    "binom.rvs(n = 1, p = pIngressar, size = 1)[0]"
   ]
  },
  {
   "cell_type": "markdown",
   "metadata": {
    "colab_type": "text",
    "id": "-brl2YL4E8VU"
   },
   "source": [
    "Probabilidade de crescer em função do grupo ecologico"
   ]
  },
  {
   "cell_type": "code",
   "execution_count": 123,
   "metadata": {
    "colab": {
     "base_uri": "https://localhost:8080/",
     "height": 34
    },
    "colab_type": "code",
    "id": "Qh3TYqMIFAM3",
    "outputId": "82499928-4021-4ce8-9bb5-1f4711b1404d"
   },
   "outputs": [
    {
     "name": "stdout",
     "output_type": "stream",
     "text": [
      "0.8173596070785886\n"
     ]
    }
   ],
   "source": [
    "# logit(p) = glm.binomial(link = logit)\n",
    "# p = exp(glm.binomial(link = logit))/(1+exp(glm.binomial(link = logit)))\n",
    "\n",
    "Pioneer = 0\n",
    "LightDemanding = 0\n",
    "Intermediate = 0\n",
    "ShadeTolerant = 0\n",
    "Emergent = 0\n",
    "\n",
    "pCrescer = m.exp(1.49856 + \n",
    "          Pioneer * 0.72065 +\n",
    "          LightDemanding * -0.1768 +\n",
    "          Intermediate * 0.12109 +\n",
    "          ShadeTolerant * -0.06119 +\n",
    "          Emergent * -0.38159) / (1+m.exp(1.49856 + \n",
    "          Pioneer * 0.72065 +\n",
    "          LightDemanding * -0.1768 +\n",
    "          Intermediate * 0.12109 +\n",
    "          ShadeTolerant * -0.06119 +\n",
    "          Emergent * -0.38159))\n",
    "print(pCrescer)"
   ]
  },
  {
   "cell_type": "code",
   "execution_count": null,
   "metadata": {
    "colab": {},
    "colab_type": "code",
    "id": "LOLP_PvQKB0H"
   },
   "outputs": [],
   "source": [
    "binom.rvs(n = 1, p = pCrescer, size = 1)[0]"
   ]
  },
  {
   "cell_type": "markdown",
   "metadata": {
    "colab_type": "text",
    "id": "ctt70er5FI_U"
   },
   "source": [
    "Probabilidade de crescer em função do centro de classe"
   ]
  },
  {
   "cell_type": "code",
   "execution_count": 124,
   "metadata": {
    "colab": {
     "base_uri": "https://localhost:8080/",
     "height": 34
    },
    "colab_type": "code",
    "id": "WvXrR-7QFK_j",
    "outputId": "591d2121-f84b-4cb0-f20d-ec0de4616674"
   },
   "outputs": [
    {
     "name": "stdout",
     "output_type": "stream",
     "text": [
      "0.8131809265765366\n"
     ]
    }
   ],
   "source": [
    "# logit(p) = glm.binomial(link = logit)\n",
    "# p = exp(glm.binomial(link = logit))\n",
    "\n",
    "CC15 = 0\n",
    "CC25 = 0\n",
    "CC35 = 0\n",
    "CC45 = 0\n",
    "CC55 = 0\n",
    "CC65 = 0\n",
    "CC75 = 0\n",
    "CC85 = 0\n",
    "CCgt95 = 0\n",
    "\n",
    "pCrescer = m.exp(1.4708130 +\n",
    "          CC15 * 0.0606048 +\n",
    "          CC25 * -0.0251736 +\n",
    "          CC35 * -0.0074853 +\n",
    "          CC45 * 0.0123993 +\n",
    "          CC55 * 0.0382272 +\n",
    "          CC65 * 0.0004746 +\n",
    "          CC75 * -0.4722842 +\n",
    "          CC85 * -0.3722007 +\n",
    "          CCgt95 * -0.9174278) / (1+m.exp(1.4708130 +\n",
    "          CC15 * 0.0606048 +\n",
    "          CC25 * -0.0251736 +\n",
    "          CC35 * -0.0074853 +\n",
    "          CC45 * 0.0123993 +\n",
    "          CC55 * 0.0382272 +\n",
    "          CC65 * 0.0004746 +\n",
    "          CC75 * -0.4722842 +\n",
    "          CC85 * -0.3722007 +\n",
    "          CCgt95 * -0.9174278))\n",
    "\n",
    "print(pCrescer)"
   ]
  },
  {
   "cell_type": "code",
   "execution_count": 125,
   "metadata": {
    "colab": {
     "base_uri": "https://localhost:8080/",
     "height": 34
    },
    "colab_type": "code",
    "id": "SIM2q0d4KJpV",
    "outputId": "e84d4063-cf88-4631-e1bc-40266f4c7074"
   },
   "outputs": [
    {
     "data": {
      "text/plain": [
       "array([1])"
      ]
     },
     "execution_count": 125,
     "metadata": {
      "tags": []
     },
     "output_type": "execute_result"
    }
   ],
   "source": [
    "binom.rvs(n = 1, p = pCrescer, size = 1)[0]"
   ]
  },
  {
   "cell_type": "markdown",
   "metadata": {
    "colab_type": "text",
    "id": "QN9T7NpWGNC2"
   },
   "source": [
    "Distribuição do incremento em função do grupo ecológico"
   ]
  },
  {
   "cell_type": "code",
   "execution_count": 75,
   "metadata": {
    "colab": {
     "base_uri": "https://localhost:8080/",
     "height": 34
    },
    "colab_type": "code",
    "id": "mQusb-mDIbZ9",
    "outputId": "41b4ff8e-2dac-4453-f53b-17b5aecb1b63"
   },
   "outputs": [
    {
     "name": "stdout",
     "output_type": "stream",
     "text": [
      "0.49786316937608194\n"
     ]
    }
   ],
   "source": [
    "Pioneer = 0\n",
    "LightDemanding = 0\n",
    "Intermediate = 0\n",
    "ShadeTolerant = 1\n",
    "Emergent = 0\n",
    "\n",
    "aGamma = m.exp(-0.38048 + \n",
    "          Pioneer * -0.01230 +\n",
    "          LightDemanding * -0.03672 +\n",
    "          Intermediate * 0.38229 +\n",
    "          ShadeTolerant * -0.31695 +\n",
    "          Emergent * 0.900233)\n",
    "print(aGamma)"
   ]
  },
  {
   "cell_type": "code",
   "execution_count": 76,
   "metadata": {
    "colab": {
     "base_uri": "https://localhost:8080/",
     "height": 34
    },
    "colab_type": "code",
    "id": "jsOlvaoqGQzK",
    "outputId": "59815955-52fa-4757-9452-4062de65f9d2"
   },
   "outputs": [
    {
     "data": {
      "text/plain": [
       "0.32416286438820097"
      ]
     },
     "execution_count": 76,
     "metadata": {
      "tags": []
     },
     "output_type": "execute_result"
    }
   ],
   "source": [
    "gamma.rvs(aGamma, loc=0, scale=1, size=1)[0]"
   ]
  },
  {
   "cell_type": "markdown",
   "metadata": {
    "colab_type": "text",
    "id": "pTtIFebhJMvu"
   },
   "source": [
    "Distribuição do incremento em função do centro de classe"
   ]
  },
  {
   "cell_type": "code",
   "execution_count": null,
   "metadata": {
    "colab": {},
    "colab_type": "code",
    "id": "JiE4jNvTJKeI"
   },
   "outputs": [],
   "source": [
    "CC15 = 0\n",
    "CC25 = 0\n",
    "CC35 = 0\n",
    "CC45 = 0\n",
    "CC55 = 0\n",
    "CC65 = 0\n",
    "CC75 = 0\n",
    "CC85 = 0\n",
    "CCgt95 = 0\n",
    "\n",
    "aGamma = m.exp(-0.44316 +\n",
    "          CC15 * -0.28469 +\n",
    "          CC25 * -0.15414 +\n",
    "          CC35 * -0.04404 +\n",
    "          CC45 * 0.27027 +\n",
    "          CC55 * 0.30840 +\n",
    "          CC65 * 0.68567 +\n",
    "          CC75 * 0.83409 +\n",
    "          CC85 * 0.88638 +\n",
    "          CCgt95 * 1.35671)\n",
    "\n",
    "print(aGamma)"
   ]
  },
  {
   "cell_type": "code",
   "execution_count": null,
   "metadata": {
    "colab": {},
    "colab_type": "code",
    "id": "EiJ0MgSKJ4Gx"
   },
   "outputs": [],
   "source": [
    "gamma.rvs(aGamma, loc=0, scale=1, size=1)[0]"
   ]
  }
 ],
 "metadata": {
  "colab": {
   "collapsed_sections": [],
   "name": "Modelos Dissertação da Raquel.ipynb",
   "provenance": []
  },
  "kernelspec": {
   "display_name": "Python 3",
   "language": "python",
   "name": "python3"
  },
  "language_info": {
   "codemirror_mode": {
    "name": "ipython",
    "version": 3
   },
   "file_extension": ".py",
   "mimetype": "text/x-python",
   "name": "python",
   "nbconvert_exporter": "python",
   "pygments_lexer": "ipython3",
   "version": "3.7.7"
  }
 },
 "nbformat": 4,
 "nbformat_minor": 1
}
