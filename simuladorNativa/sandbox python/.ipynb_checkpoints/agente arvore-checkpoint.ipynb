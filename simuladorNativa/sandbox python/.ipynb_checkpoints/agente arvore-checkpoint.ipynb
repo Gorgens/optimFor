{
 "cells": [
  {
   "cell_type": "code",
   "execution_count": null,
   "metadata": {},
   "outputs": [],
   "source": [
    "from scipy.stats import binom\n",
    "from scipy.stats import gamma\n",
    "import math as m"
   ]
  },
  {
   "cell_type": "markdown",
   "metadata": {},
   "source": [
    "Modelo do agente árvore"
   ]
  },
  {
   "cell_type": "code",
   "execution_count": null,
   "metadata": {},
   "outputs": [],
   "source": [
    "class arvore:\n",
    "\n",
    "    def __init__(self, sp, grupoEcologico, dap):\n",
    "        self.sp = sp\n",
    "        self.ge = grupoEcologico\n",
    "        self.st = 'viva'\n",
    "        self.dap = dap\n",
    "        self.s = 3.14 * dap**2 / 40000\n",
    "        # modelo de altura: https://acta.inpa.gov.br/fasciculos/35-3/BODY/v35n3a07.html\n",
    "        self.alt = (((dap**2)/(-8.8722 + 3.4217 * dap + 0.1382 * dap**2))**2)+1.3\n",
    "        self.cc = (dap//10 * 10) + 10/2\n",
    "        self.vol = -0.09712 + 0.013697 * dap + 0.000838 * dap**2\n",
    "\n",
    "    def evoluir(self):\n",
    "      if self.st == 'viva':\n",
    "        # define probabilidade de morrer\n",
    "        # pMorrer = 0.041\n",
    "        if self.ge == 'Pioneer':\n",
    "          pMorrer = m.exp(-3.20606 + 0.21794)/(1+m.exp(-3.20606 + 0.21794))\n",
    "        elif self.ge == 'LightDemanding':\n",
    "          pMorrer = m.exp(-3.20606 + 0.30018)/(1+m.exp(-3.20606 + 0.30018))\n",
    "        elif self.ge == 'Intermediate':\n",
    "          pMorrer = m.exp(-3.20606 + -0.16983)/(1+m.exp(-3.20606 + -0.16983))\n",
    "        elif self.ge == 'ShadeTolerant':\n",
    "          pMorrer = m.exp(-3.20606 + -0.00247)/(1+m.exp(-3.20606 + -0.00247))\n",
    "        elif self.ge == 'Emergent':\n",
    "          pMorrer = m.exp(-3.20606 + -0.29289)/(1+m.exp(-3.20606 + -0.29289))\n",
    "        else:\n",
    "          pMorrer = 0.041\n",
    "        # verifica se árvore permanece viva ou morre\n",
    "        if binom.rvs(n = 1, p = pMorrer, size = 1)[0] == 1:\n",
    "          self.dap = None\n",
    "          self.st = 'morta'\n",
    "        # se permanece viva, evolui\n",
    "        else:\n",
    "          # define probabilidade de crescer\n",
    "          if self.ge == 'Pioneer':\n",
    "            pCrescer = m.exp(1.49856 + 0.72065)/(1+m.exp(1.49856 + 0.72065))\n",
    "          elif self.ge == 'LightDemanding':\n",
    "            pCrescer = m.exp(1.49856 + -0.1768)/(1+m.exp(1.49856 + -0.1768))\n",
    "          elif self.ge == 'Intermediate':\n",
    "            pCrescer = m.exp(1.49856 + 0.12109)/(1+m.exp(1.49856 + 0.12109))\n",
    "          elif self.ge == 'ShadeTolerant':\n",
    "            pCrescer = m.exp(1.49856 + -0.06119)/(1+m.exp(1.49856 + -0.06119))\n",
    "          elif self.ge == 'Emergent':\n",
    "            pCrescer = m.exp(1.49856 + -0.38159)/(1+m.exp(1.49856 + -0.38159))\n",
    "          else:\n",
    "            pCrescer = 0.8174\n",
    "          # se cresce gera valor para IDA e evolui\n",
    "          if binom.rvs(n = 1, p = pCrescer, size = 1)[0] == 1:\n",
    "            if self.cc == 15.0:\n",
    "              aGamma = m.exp(-0.44316 + -0.28469)\n",
    "            elif self.cc == 25.0:\n",
    "              aGamma = m.exp(-0.44316 + -0.15414)\n",
    "            elif self.cc == 35.0:\n",
    "              aGamma = m.exp(-0.44316 + -0.04404)\n",
    "            elif self.cc == 45.0:\n",
    "              aGamma = m.exp(-0.44316 + 0.27027)\n",
    "            elif self.cc == 55.0:\n",
    "              aGamma = m.exp(-0.44316 + 0.30840)\n",
    "            elif self.cc == 65.0:\n",
    "              aGamma = m.exp(-0.44316 + 0.68567)\n",
    "            elif self.cc == 75.0:\n",
    "              aGamma = m.exp(-0.44316 + 0.83409)\n",
    "            elif self.cc == 85.0:\n",
    "              aGamma = m.exp(-0.44316 + 0.88638)\n",
    "            elif self.cc >= 95.0:\n",
    "              aGamma = m.exp(-0.44316 + 1.35671)\n",
    "            else:\n",
    "              aGamma = 0.4978\n",
    "            self.dap = self.dap + gamma.rvs(aGamma, loc=0, scale=1, size=1)[0]\n",
    "            self.cc = (self.dap//10 * 10) + 10/2\n",
    "            self.vol = -0.09712 + 0.013697 * self.dap + 0.000838 * self.dap**2\n",
    "            self.alt = (((dap**2)/(-8.8722 + 3.4217 * dap + 0.1382 * dap**2))**2)+1.3"
   ]
  },
  {
   "cell_type": "markdown",
   "metadata": {},
   "source": [
    "Criando um agente árvore como exemplo"
   ]
  },
  {
   "cell_type": "code",
   "execution_count": null,
   "metadata": {},
   "outputs": [],
   "source": [
    "# tree1 = arvore(None, 'Pioneer', 23.3)"
   ]
  },
  {
   "cell_type": "markdown",
   "metadata": {},
   "source": [
    "Evoluindo um agente como exemplo"
   ]
  },
  {
   "cell_type": "code",
   "execution_count": null,
   "metadata": {},
   "outputs": [],
   "source": [
    "# print(tree1.dap, tree1.cc, tree1.vol, tree1.st)\n",
    "# tree1.evoluir()\n",
    "# print(tree1.dap, tree1.cc, tree1.vol, tree1.st)"
   ]
  }
 ],
 "metadata": {
  "kernelspec": {
   "display_name": "Python 3",
   "language": "python",
   "name": "python3"
  },
  "language_info": {
   "codemirror_mode": {
    "name": "ipython",
    "version": 3
   },
   "file_extension": ".py",
   "mimetype": "text/x-python",
   "name": "python",
   "nbconvert_exporter": "python",
   "pygments_lexer": "ipython3",
   "version": "3.7.7"
  }
 },
 "nbformat": 4,
 "nbformat_minor": 4
}
